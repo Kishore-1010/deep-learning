{
  "cells": [
    {
      "cell_type": "code",
      "source": [
        "import pandas as pd\n",
        "\n",
        "# Data for the test cases\n",
        "data = {\n",
        "    \"Input Digit Image\": [\"Image of 7\", \"Image of 3\", \"Image of 8\", \"Image of 1\", \"Image of 3\", \"Image of 8\"],\n",
        "    \"Expected Label\": [7, 3, 8, 1, 3, 8],\n",
        "    \"Model Output\": [7, 3, 8, 7, 3, 2],\n",
        "}\n",
        "\n",
        "# Determine if each prediction is correct\n",
        "data[\"Correct (Y/N)\"] = [\"Y\" if exp == out else \"N\"\n",
        "                         for exp, out in zip(data[\"Expected Label\"], data[\"Model Output\"])]\n",
        "\n",
        "# Create DataFrame\n",
        "df = pd.DataFrame(data)\n",
        "\n",
        "# Display DataFrame\n",
        "print(df)\n",
        "\n",
        "# Optional: Calculate accuracy\n",
        "accuracy = (df[\"Correct (Y/N)\"] == \"Y\").mean() * 100\n",
        "print(f\"\\nModel Accuracy: {accuracy:.2f}%\")\n"
      ],
      "metadata": {
        "colab": {
          "base_uri": "https://localhost:8080/"
        },
        "id": "QduQpMk_J7SP",
        "outputId": "754b26c4-ad6c-4c2b-f8be-be7ede6f6764"
      },
      "execution_count": 8,
      "outputs": [
        {
          "output_type": "stream",
          "name": "stdout",
          "text": [
            "  Input Digit Image  Expected Label  Model Output Correct (Y/N)\n",
            "0        Image of 7               7             7             Y\n",
            "1        Image of 3               3             3             Y\n",
            "2        Image of 8               8             8             Y\n",
            "3        Image of 1               1             7             N\n",
            "4        Image of 3               3             3             Y\n",
            "5        Image of 8               8             2             N\n",
            "\n",
            "Model Accuracy: 66.67%\n"
          ]
        }
      ]
    }
  ],
  "metadata": {
    "colab": {
      "provenance": []
    },
    "kernelspec": {
      "display_name": "Python 3",
      "name": "python3"
    },
    "language_info": {
      "name": "python"
    }
  },
  "nbformat": 4,
  "nbformat_minor": 0
}