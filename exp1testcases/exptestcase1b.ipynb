{
 "cells": [
  {
   "cell_type": "code",
   "execution_count": 1,
   "id": "12299c0e",
   "metadata": {},
   "outputs": [
    {
     "name": "stdout",
     "output_type": "stream",
     "text": [
      "\n",
      "MLP predictions after training:\n",
      "Input: [0 0], Predicted: 0, Actual: 0\n",
      "Input: [0 1], Predicted: 1, Actual: 1\n",
      "Input: [1 0], Predicted: 1, Actual: 1\n",
      "Input: [1 1], Predicted: 0, Actual: 0\n"
     ]
    }
   ],
   "source": [
    "# Multi-Layer Perceptron – Solves the XOR problem\n",
    "import numpy as np\n",
    "\n",
    "# Activation functions\n",
    "def sigmoid(x):\n",
    "    return 1 / (1 + np.exp(-x))\n",
    "\n",
    "def sigmoid_derivative(x):\n",
    "    return sigmoid(x) * (1 - sigmoid(x))\n",
    "\n",
    "# XOR dataset\n",
    "X = np.array([[0, 0], [0, 1], [1, 0], [1, 1]])\n",
    "y = np.array([[0], [1], [1], [0]])\n",
    "\n",
    "# Neural network hyperparameters\n",
    "input_dim, hidden_dim, output_dim = 2, 2, 1\n",
    "learning_rate = 0.5\n",
    "epochs = 10000\n",
    "\n",
    "# Initialize weights & biases\n",
    "np.random.seed(1)\n",
    "w1 = np.random.randn(input_dim, hidden_dim)\n",
    "b1 = np.zeros((1, hidden_dim))\n",
    "w2 = np.random.randn(hidden_dim, output_dim)\n",
    "b2 = np.zeros((1, output_dim))\n",
    "\n",
    "# Training with backpropagation\n",
    "for epoch in range(epochs):\n",
    "    # Forward Pass\n",
    "    z1 = X.dot(w1) + b1\n",
    "    a1 = sigmoid(z1)\n",
    "    z2 = a1.dot(w2) + b2\n",
    "    a2 = sigmoid(z2)\n",
    "    \n",
    "    # Backward Pass\n",
    "    error = a2 - y\n",
    "    d2 = error * sigmoid_derivative(z2)\n",
    "    error_hidden = d2.dot(w2.T)\n",
    "    d1 = error_hidden * sigmoid_derivative(z1)\n",
    "    \n",
    "    # Update weights & biases\n",
    "    w2 -= learning_rate * a1.T.dot(d2)\n",
    "    b2 -= learning_rate * np.sum(d2, axis=0, keepdims=True)\n",
    "    w1 -= learning_rate * X.T.dot(d1)\n",
    "    b1 -= learning_rate * np.sum(d1, axis=0, keepdims=True)\n",
    "\n",
    "# Display results\n",
    "print(\"\\nMLP predictions after training:\")\n",
    "for x_vec, target in zip(X, y):\n",
    "    hidden = sigmoid(np.dot(x_vec, w1) + b1)\n",
    "    out = sigmoid(np.dot(hidden, w2) + b2)\n",
    "    print(f\"Input: {x_vec}, Predicted: {int(round(out[0,0]))}, Actual: {int(target[0])}\")\n"
   ]
  }
 ],
 "metadata": {
  "kernelspec": {
   "display_name": "Python 3 (ipykernel)",
   "language": "python",
   "name": "python3"
  },
  "language_info": {
   "codemirror_mode": {
    "name": "ipython",
    "version": 3
   },
   "file_extension": ".py",
   "mimetype": "text/x-python",
   "name": "python",
   "nbconvert_exporter": "python",
   "pygments_lexer": "ipython3",
   "version": "3.11.5"
  }
 },
 "nbformat": 4,
 "nbformat_minor": 5
}
