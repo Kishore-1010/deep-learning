{
 "cells": [
  {
   "cell_type": "code",
   "execution_count": 3,
   "id": "8e2d49a2",
   "metadata": {},
   "outputs": [
    {
     "name": "stdout",
     "output_type": "stream",
     "text": [
      "Perceptron predictions on XOR:\n",
      "Input: [0 0], Predicted: 0, Expected: 0\n",
      "Input: [0 1], Predicted: 1, Expected: 1\n",
      "Input: [1 0], Predicted: 1, Expected: 1\n",
      "Input: [1 1], Predicted: 1, Expected: 0\n"
     ]
    }
   ],
   "source": [
    "# Single-Layer Perceptron – Demonstrates inability to solve XOR\n",
    "import numpy as np\n",
    "\n",
    "def step(x):\n",
    "    return 1 if x >= 0 else 0\n",
    "\n",
    "def perceptron_predict(x, weights, bias):\n",
    "    return step(np.dot(weights, x) + bias)\n",
    "\n",
    "# XOR dataset\n",
    "X = np.array([[0, 0], [0, 1], [1, 0], [1, 1]])\n",
    "y_expected = [0, 1, 1, 0]\n",
    "\n",
    "# Example weights and bias\n",
    "weights = np.array([1, 1])\n",
    "bias = -0.5\n",
    "\n",
    "print(\"Perceptron predictions on XOR:\")\n",
    "for x, y in zip(X, y_expected):\n",
    "    pred = perceptron_predict(x, weights, bias)\n",
    "    print(f\"Input: {x}, Predicted: {pred}, Expected: {y}\")\n"
   ]
  },
  {
   "cell_type": "code",
   "execution_count": null,
   "id": "2de380e9",
   "metadata": {},
   "outputs": [],
   "source": []
  }
 ],
 "metadata": {
  "kernelspec": {
   "display_name": "Python 3 (ipykernel)",
   "language": "python",
   "name": "python3"
  },
  "language_info": {
   "codemirror_mode": {
    "name": "ipython",
    "version": 3
   },
   "file_extension": ".py",
   "mimetype": "text/x-python",
   "name": "python",
   "nbconvert_exporter": "python",
   "pygments_lexer": "ipython3",
   "version": "3.11.5"
  }
 },
 "nbformat": 4,
 "nbformat_minor": 5
}
